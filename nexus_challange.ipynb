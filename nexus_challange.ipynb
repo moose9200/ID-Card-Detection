{
  "nbformat": 4,
  "nbformat_minor": 0,
  "metadata": {
    "colab": {
      "name": "nexus challange.ipynb",
      "provenance": []
    },
    "kernelspec": {
      "name": "python3",
      "display_name": "Python 3"
    },
    "language_info": {
      "name": "python"
    }
  },
  "cells": [
    {
      "cell_type": "code",
      "metadata": {
        "colab": {
          "base_uri": "https://localhost:8080/"
        },
        "id": "BbcCCzzYftW8",
        "outputId": "ecd36ca3-72c6-4d97-f534-07131fbee855"
      },
      "source": [
        "from google.colab import drive\n",
        "\n",
        "drive.mount('/content/drive', force_remount=True)"
      ],
      "execution_count": 1,
      "outputs": [
        {
          "output_type": "stream",
          "text": [
            "Mounted at /content/drive\n"
          ],
          "name": "stdout"
        }
      ]
    },
    {
      "cell_type": "code",
      "metadata": {
        "id": "4Sa3IZTPfq74"
      },
      "source": [
        "!pip install pytesseract\n",
        "!sudo apt-get install tesseract-ocr-ind"
      ],
      "execution_count": null,
      "outputs": []
    },
    {
      "cell_type": "code",
      "metadata": {
        "id": "ivaWHPWAfnPA"
      },
      "source": [
        "#working code final\n",
        "import cv2\n",
        "import numpy as np\n",
        "import pytesseract\n",
        "import matplotlib.pyplot as plt\n",
        "import pandas as pd\n",
        "from google.colab.patches import cv2_imshow\n",
        "from PIL import Image\n",
        "from pytesseract import Output\n",
        "import cv2\n",
        "import pytesseract\n",
        "import pandas as pd\n",
        "import matplotlib.pyplot as plt\n",
        "from PIL import Image\n",
        "\n",
        "## (1) Read\n",
        "img =  cv2.imread('/content/drive/MyDrive/dl.jpg')\n",
        "gray = cv2.cvtColor(img, cv2.COLOR_BGR2GRAY)\n",
        "\n",
        "## (2) Threshold\n",
        "th, threshed = cv2.threshold(gray, 127, 255, cv2.THRESH_TRUNC)\n",
        "\n",
        "## (3) Detect\n",
        "result = pytesseract.image_to_string((threshed), lang=\"ind\")\n",
        "\n",
        "## (5) Normalize\n",
        "for word in result.split(\"\\n\"):\n",
        "  if \"”—\" in word:\n",
        "    word = word.replace(\"”—\", \":\")\n",
        "  \n",
        "  #normalize NIK\n",
        "  if \"NIK\" in word:\n",
        "    nik_char = word.split()\n",
        "    if \"D\" in word:\n",
        "      word = word.replace(\"D\", \"0\")\n",
        "    if \"?\" in word:\n",
        "      word = word.replace(\"?\", \"7\") \n",
        "  \n",
        "  print(word)\n",
        "\n",
        "\n",
        "# We point OpenCV's CascadeClassifier function to where our \n",
        "# classifier (XML file format) is stored\n",
        "face_classifier = cv2.CascadeClassifier('/content/drive/MyDrive/haarcascade_frontalface_default.xml')\n",
        "\n",
        "# Load our image then convert it to grayscale\n",
        "image = cv2.imread('/content/drive/MyDrive/dl.jpg')\n",
        "gray = cv2.cvtColor(image, cv2.COLOR_BGR2GRAY)\n",
        "\n",
        "# Our classifier returns the ROI of the detected face as a tuple\n",
        "# It stores the top left coordinate and the bottom right coordiantes\n",
        "faces = face_classifier.detectMultiScale(gray, 1.3, 5)\n",
        "\n",
        "# When no faces detected, face_classifier returns and empty tuple\n",
        "if faces is ():\n",
        "    print(\"No faces found\")\n",
        "\n",
        "# We iterate through our faces array and draw a rectangle\n",
        "# over each face in faces\n",
        "for (x, y, w, h) in faces:\n",
        "    x = x - 25 # Padding trick to take the whole face not just Haarcascades points\n",
        "    y = y - 40 # Same here\n",
        "    cv2.rectangle(image, (x, y), (x + w + 50, y + h + 70), (27, 200, 10), 2)\n",
        "   # cv2_imshow( image)\n",
        "\n",
        "cv2.destroyAllWindows()\n",
        "face_photo = image[y:y+h,x:x+w]\n",
        "cv2_imshow(face_photo)\n"
      ],
      "execution_count": null,
      "outputs": []
    },
    {
      "cell_type": "code",
      "metadata": {
        "id": "1EJG14HTgAGd"
      },
      "source": [
        ""
      ],
      "execution_count": null,
      "outputs": []
    }
  ]
}